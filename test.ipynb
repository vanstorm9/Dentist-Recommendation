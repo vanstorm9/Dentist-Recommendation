{
  "nbformat": 4,
  "nbformat_minor": 0,
  "metadata": {
    "colab": {
      "name": "test.ipynb",
      "version": "0.3.2",
      "provenance": [],
      "collapsed_sections": []
    },
    "kernelspec": {
      "name": "python3",
      "display_name": "Python 3"
    }
  },
  "cells": [
    {
      "cell_type": "code",
      "metadata": {
        "id": "xVQ45OjiM42X",
        "colab_type": "code",
        "colab": {}
      },
      "source": [
        "import pandas as pd\n",
        "import numpy as np\n",
        "from sklearn.feature_extraction.text import CountVectorizer\n",
        "from nltk.stem import PorterStemmer\n",
        "from nltk.tokenize import sent_tokenize, word_tokenize\n",
        "from sklearn.pipeline import FeatureUnion\n",
        "from nltk.corpus import stopwords \n",
        "import os\n",
        "import string\n",
        "\n",
        "import heapq "
      ],
      "execution_count": 0,
      "outputs": []
    },
    {
      "cell_type": "code",
      "metadata": {
        "id": "F-sa9_8yT0t8",
        "colab_type": "code",
        "colab": {
          "base_uri": "https://localhost:8080/",
          "height": 102
        },
        "outputId": "7d08b64e-9d95-4200-b567-5d92564e9495"
      },
      "source": [
        "import nltk\n",
        "nltk.download('punkt')\n",
        "nltk.download('stopwords')"
      ],
      "execution_count": 10,
      "outputs": [
        {
          "output_type": "stream",
          "text": [
            "[nltk_data] Downloading package punkt to /root/nltk_data...\n",
            "[nltk_data]   Package punkt is already up-to-date!\n",
            "[nltk_data] Downloading package stopwords to /root/nltk_data...\n",
            "[nltk_data]   Unzipping corpora/stopwords.zip.\n"
          ],
          "name": "stdout"
        },
        {
          "output_type": "execute_result",
          "data": {
            "text/plain": [
              "True"
            ]
          },
          "metadata": {
            "tags": []
          },
          "execution_count": 10
        }
      ]
    },
    {
      "cell_type": "code",
      "metadata": {
        "id": "eK3sSd-mSBVC",
        "colab_type": "code",
        "colab": {}
      },
      "source": [
        "def removeStopWords(wordList):\n",
        "    return [word for word in wordList if word not in stopwords.words('english')]\n",
        "\n",
        "# DO NOT USE\n",
        "def calcCosSimOld(aMat,bVec):\n",
        "    # Calculate cosine simularity\n",
        "    a = np.sum(aMat,axis=0)/aMat.shape[0]\n",
        "    b = bVec.copy()\n",
        "    return np.dot(a,b)/(np.linalg.norm(a)*np.linalg.norm(b))\n",
        "\n",
        "def calcCosSim(a,b):\n",
        "    # Calculate cosine simularity\n",
        "    return np.dot(a,b)/(np.linalg.norm(a)*np.linalg.norm(b))\n",
        "\n",
        "def removeStem(sentence):\n",
        "    ps = PorterStemmer()\n",
        "    words = word_tokenize(sentence)\n",
        "    tmpStr = ''\n",
        "    for w in words:\n",
        "        tmpStr += ps.stem(w) + ' '\n",
        "    return tmpStr"
      ],
      "execution_count": 0,
      "outputs": []
    },
    {
      "cell_type": "code",
      "metadata": {
        "id": "U0wQATU-SkbV",
        "colab_type": "code",
        "colab": {
          "base_uri": "https://localhost:8080/",
          "height": 54
        },
        "outputId": "bc1f61c6-5b8d-49ac-cde2-8e2c3d633b58"
      },
      "source": [
        "rootPath = './hotel/'\n",
        "complaintSubPath = 'hotelMain/'\n",
        "\n",
        "contractPath = './hotel_policy.txt.'\n",
        "#contractPath = rootPath + '/termService/' + 'related.txt'\n",
        "#contractPath = rootPath + '/termService/' + 'unrelated.txt'\n",
        "\n",
        "\n",
        "#contractTxt = open(contractPath, encoding=\"utf8\", errors='ignore').read()\n",
        "contractTxt = 'I am suffering from bleeding gums covered with United Healthcare'\n",
        "\n",
        "\n",
        "contractVec = removeStopWords([removeStem(contractTxt)])\n",
        "\n",
        "vec = CountVectorizer()\n",
        "contractFreq = vec.fit_transform(contractVec)\n",
        "\n",
        "\n",
        "compList = []\n",
        "\n",
        "# Used for removing stem from words\n",
        "\n",
        "'''\n",
        "for cFilePath in os.listdir(rootPath + complaintSubPath):\n",
        "    cFilePath = rootPath + complaintSubPath + cFilePath\n",
        "    cFileTxt = open(cFilePath,'r').read()\n",
        "\n",
        "    cFileTxt = removeStem(cFileTxt)\n",
        "    \n",
        "    compList.append(cFileTxt + ' ')\n",
        "\n",
        "\n",
        "compList = [''.join(str(v) for v in compList)]  # We are combining all complaints into one\n",
        "complantCnt = CountVectorizer()\n",
        "a = complantCnt.fit_transform(compList)\n",
        "'''\n",
        "#print(contractVec)"
      ],
      "execution_count": 13,
      "outputs": [
        {
          "output_type": "execute_result",
          "data": {
            "text/plain": [
              "\"\\nfor cFilePath in os.listdir(rootPath + complaintSubPath):\\n    cFilePath = rootPath + complaintSubPath + cFilePath\\n    cFileTxt = open(cFilePath,'r').read()\\n\\n    cFileTxt = removeStem(cFileTxt)\\n    \\n    compList.append(cFileTxt + ' ')\\n\\n\\ncompList = [''.join(str(v) for v in compList)]  # We are combining all complaints into one\\ncomplantCnt = CountVectorizer()\\na = complantCnt.fit_transform(compList)\\n\""
            ]
          },
          "metadata": {
            "tags": []
          },
          "execution_count": 13
        }
      ]
    },
    {
      "cell_type": "code",
      "metadata": {
        "id": "-XFoMpiIUOfU",
        "colab_type": "code",
        "colab": {
          "base_uri": "https://localhost:8080/",
          "height": 80
        },
        "outputId": "96dc59c7-cf18-4d1d-d115-1432624dc78d"
      },
      "source": [
        "customerTxt = 'I am suffering from bleeding gums covered with United Healthcare'\n",
        "customerVec = removeStopWords([removeStem(customerTxt)])\n",
        "\n",
        "\n",
        "#doctorTxt = 'Bleeding Gums United Healthcare tooth decay oral cancer mouth sores'\n",
        "doctorTxt = 'Heart Attack HealthFirst bleeding gums brain surgery splinter'\n",
        "doctorVec = removeStopWords([removeStem(doctorTxt)])\n",
        "\n",
        "\n",
        "################\n",
        "\n",
        "customerFreq = vec.fit_transform(customerVec)\n",
        "customerDf = pd.DataFrame(customerFreq.toarray(),columns=vec.get_feature_names())\n",
        "customerDf"
      ],
      "execution_count": 54,
      "outputs": [
        {
          "output_type": "execute_result",
          "data": {
            "text/html": [
              "<div>\n",
              "<style scoped>\n",
              "    .dataframe tbody tr th:only-of-type {\n",
              "        vertical-align: middle;\n",
              "    }\n",
              "\n",
              "    .dataframe tbody tr th {\n",
              "        vertical-align: top;\n",
              "    }\n",
              "\n",
              "    .dataframe thead th {\n",
              "        text-align: right;\n",
              "    }\n",
              "</style>\n",
              "<table border=\"1\" class=\"dataframe\">\n",
              "  <thead>\n",
              "    <tr style=\"text-align: right;\">\n",
              "      <th></th>\n",
              "      <th>am</th>\n",
              "      <th>bleed</th>\n",
              "      <th>cover</th>\n",
              "      <th>from</th>\n",
              "      <th>gum</th>\n",
              "      <th>healthcar</th>\n",
              "      <th>suffer</th>\n",
              "      <th>unit</th>\n",
              "      <th>with</th>\n",
              "    </tr>\n",
              "  </thead>\n",
              "  <tbody>\n",
              "    <tr>\n",
              "      <th>0</th>\n",
              "      <td>1</td>\n",
              "      <td>1</td>\n",
              "      <td>1</td>\n",
              "      <td>1</td>\n",
              "      <td>1</td>\n",
              "      <td>1</td>\n",
              "      <td>1</td>\n",
              "      <td>1</td>\n",
              "      <td>1</td>\n",
              "    </tr>\n",
              "  </tbody>\n",
              "</table>\n",
              "</div>"
            ],
            "text/plain": [
              "   am  bleed  cover  from  gum  healthcar  suffer  unit  with\n",
              "0   1      1      1     1    1          1       1     1     1"
            ]
          },
          "metadata": {
            "tags": []
          },
          "execution_count": 54
        }
      ]
    },
    {
      "cell_type": "code",
      "metadata": {
        "id": "rT3tBFLvXW1h",
        "colab_type": "code",
        "colab": {
          "base_uri": "https://localhost:8080/",
          "height": 80
        },
        "outputId": "9080ebd5-d939-4125-c7bf-b1125c07e139"
      },
      "source": [
        "doctorFreq = vec.fit_transform(doctorVec)\n",
        "doctorDf = pd.DataFrame(doctorFreq.toarray(),columns=vec.get_feature_names())\n",
        "doctorDf"
      ],
      "execution_count": 55,
      "outputs": [
        {
          "output_type": "execute_result",
          "data": {
            "text/html": [
              "<div>\n",
              "<style scoped>\n",
              "    .dataframe tbody tr th:only-of-type {\n",
              "        vertical-align: middle;\n",
              "    }\n",
              "\n",
              "    .dataframe tbody tr th {\n",
              "        vertical-align: top;\n",
              "    }\n",
              "\n",
              "    .dataframe thead th {\n",
              "        text-align: right;\n",
              "    }\n",
              "</style>\n",
              "<table border=\"1\" class=\"dataframe\">\n",
              "  <thead>\n",
              "    <tr style=\"text-align: right;\">\n",
              "      <th></th>\n",
              "      <th>attack</th>\n",
              "      <th>bleed</th>\n",
              "      <th>brain</th>\n",
              "      <th>gum</th>\n",
              "      <th>healthfirst</th>\n",
              "      <th>heart</th>\n",
              "      <th>splinter</th>\n",
              "      <th>surgeri</th>\n",
              "    </tr>\n",
              "  </thead>\n",
              "  <tbody>\n",
              "    <tr>\n",
              "      <th>0</th>\n",
              "      <td>1</td>\n",
              "      <td>1</td>\n",
              "      <td>1</td>\n",
              "      <td>1</td>\n",
              "      <td>1</td>\n",
              "      <td>1</td>\n",
              "      <td>1</td>\n",
              "      <td>1</td>\n",
              "    </tr>\n",
              "  </tbody>\n",
              "</table>\n",
              "</div>"
            ],
            "text/plain": [
              "   attack  bleed  brain  gum  healthfirst  heart  splinter  surgeri\n",
              "0       1      1      1    1            1      1         1        1"
            ]
          },
          "metadata": {
            "tags": []
          },
          "execution_count": 55
        }
      ]
    },
    {
      "cell_type": "code",
      "metadata": {
        "id": "U3MJrNCXgQeM",
        "colab_type": "code",
        "colab": {
          "base_uri": "https://localhost:8080/",
          "height": 111
        },
        "outputId": "30a2a78c-2f64-40da-fcd8-1c84875d6d24"
      },
      "source": [
        "combinedDf = pd.concat([customerDf, doctorDf],sort=False).fillna(value=0.0)\n",
        "combinedDf"
      ],
      "execution_count": 56,
      "outputs": [
        {
          "output_type": "execute_result",
          "data": {
            "text/html": [
              "<div>\n",
              "<style scoped>\n",
              "    .dataframe tbody tr th:only-of-type {\n",
              "        vertical-align: middle;\n",
              "    }\n",
              "\n",
              "    .dataframe tbody tr th {\n",
              "        vertical-align: top;\n",
              "    }\n",
              "\n",
              "    .dataframe thead th {\n",
              "        text-align: right;\n",
              "    }\n",
              "</style>\n",
              "<table border=\"1\" class=\"dataframe\">\n",
              "  <thead>\n",
              "    <tr style=\"text-align: right;\">\n",
              "      <th></th>\n",
              "      <th>am</th>\n",
              "      <th>bleed</th>\n",
              "      <th>cover</th>\n",
              "      <th>from</th>\n",
              "      <th>gum</th>\n",
              "      <th>healthcar</th>\n",
              "      <th>suffer</th>\n",
              "      <th>unit</th>\n",
              "      <th>with</th>\n",
              "      <th>attack</th>\n",
              "      <th>brain</th>\n",
              "      <th>healthfirst</th>\n",
              "      <th>heart</th>\n",
              "      <th>splinter</th>\n",
              "      <th>surgeri</th>\n",
              "    </tr>\n",
              "  </thead>\n",
              "  <tbody>\n",
              "    <tr>\n",
              "      <th>0</th>\n",
              "      <td>1.0</td>\n",
              "      <td>1</td>\n",
              "      <td>1.0</td>\n",
              "      <td>1.0</td>\n",
              "      <td>1</td>\n",
              "      <td>1.0</td>\n",
              "      <td>1.0</td>\n",
              "      <td>1.0</td>\n",
              "      <td>1.0</td>\n",
              "      <td>0.0</td>\n",
              "      <td>0.0</td>\n",
              "      <td>0.0</td>\n",
              "      <td>0.0</td>\n",
              "      <td>0.0</td>\n",
              "      <td>0.0</td>\n",
              "    </tr>\n",
              "    <tr>\n",
              "      <th>0</th>\n",
              "      <td>0.0</td>\n",
              "      <td>1</td>\n",
              "      <td>0.0</td>\n",
              "      <td>0.0</td>\n",
              "      <td>1</td>\n",
              "      <td>0.0</td>\n",
              "      <td>0.0</td>\n",
              "      <td>0.0</td>\n",
              "      <td>0.0</td>\n",
              "      <td>1.0</td>\n",
              "      <td>1.0</td>\n",
              "      <td>1.0</td>\n",
              "      <td>1.0</td>\n",
              "      <td>1.0</td>\n",
              "      <td>1.0</td>\n",
              "    </tr>\n",
              "  </tbody>\n",
              "</table>\n",
              "</div>"
            ],
            "text/plain": [
              "    am  bleed  cover  from  gum  ...  brain  healthfirst  heart  splinter  surgeri\n",
              "0  1.0      1    1.0   1.0    1  ...    0.0          0.0    0.0       0.0      0.0\n",
              "0  0.0      1    0.0   0.0    1  ...    1.0          1.0    1.0       1.0      1.0\n",
              "\n",
              "[2 rows x 15 columns]"
            ]
          },
          "metadata": {
            "tags": []
          },
          "execution_count": 56
        }
      ]
    },
    {
      "cell_type": "code",
      "metadata": {
        "id": "d4QQBuy6XeP9",
        "colab_type": "code",
        "colab": {
          "base_uri": "https://localhost:8080/",
          "height": 51
        },
        "outputId": "098a7e15-dc07-4936-cad1-d886b590fcc9"
      },
      "source": [
        "combinedDf = pd.concat([customerDf, doctorDf],sort=False).fillna(value=0.0)\n",
        "customerVec = combinedDf.iloc[0].values\n",
        "doctorVec = combinedDf.iloc[1].values\n",
        "print(customerVec)\n",
        "print(doctorVec)\n",
        "    \n",
        "    "
      ],
      "execution_count": 57,
      "outputs": [
        {
          "output_type": "stream",
          "text": [
            "[1. 1. 1. 1. 1. 1. 1. 1. 1. 0. 0. 0. 0. 0. 0.]\n",
            "[0. 1. 0. 0. 1. 0. 0. 0. 0. 1. 1. 1. 1. 1. 1.]\n"
          ],
          "name": "stdout"
        }
      ]
    },
    {
      "cell_type": "code",
      "metadata": {
        "id": "aecI_5TiXfuv",
        "colab_type": "code",
        "colab": {
          "base_uri": "https://localhost:8080/",
          "height": 34
        },
        "outputId": "4acaba0a-13b5-45df-8253-2ba5c04caece"
      },
      "source": [
        "calcCosSim(customerVec,doctorVec)"
      ],
      "execution_count": 58,
      "outputs": [
        {
          "output_type": "execute_result",
          "data": {
            "text/plain": [
              "0.2357022603955158"
            ]
          },
          "metadata": {
            "tags": []
          },
          "execution_count": 58
        }
      ]
    },
    {
      "cell_type": "code",
      "metadata": {
        "id": "mRzEdbCvXhUe",
        "colab_type": "code",
        "colab": {}
      },
      "source": [
        ""
      ],
      "execution_count": 0,
      "outputs": []
    },
    {
      "cell_type": "code",
      "metadata": {
        "id": "pIOwDLnuXh8v",
        "colab_type": "code",
        "colab": {}
      },
      "source": [
        ""
      ],
      "execution_count": 0,
      "outputs": []
    },
    {
      "cell_type": "code",
      "metadata": {
        "id": "R13rhP1rXiQv",
        "colab_type": "code",
        "colab": {}
      },
      "source": [
        ""
      ],
      "execution_count": 0,
      "outputs": []
    },
    {
      "cell_type": "code",
      "metadata": {
        "id": "Rdr0NRg9S3ua",
        "colab_type": "code",
        "colab": {
          "base_uri": "https://localhost:8080/",
          "height": 232
        },
        "outputId": "83df0831-2ca8-4ee3-937a-2cb8870f3220"
      },
      "source": [
        "resPara = []\n",
        "resScore = []\n",
        "\n",
        "splitNum = 300\n",
        "#for paragraph in contractTxt.split('\\n'):\n",
        "for paragraph in [contractTxt[i:i+splitNum] for i in range(0, len(contractTxt), splitNum)]:\n",
        "    paragraph = paragraph.translate(string.punctuation)\n",
        "\n",
        "\n",
        "    try:\n",
        "        vec = CountVectorizer()\n",
        "        contractFreq = vec.fit_transform([paragraph])\n",
        "    except:\n",
        "        continue\n",
        "    complaintDf = pd.DataFrame(a.toarray(),columns=complantCnt.get_feature_names())\n",
        "    contractDf = pd.DataFrame(contractFreq.toarray(),columns=vec.get_feature_names())\n",
        "\n",
        "    combinedDf = pd.concat([complaintDf, contractDf],sort=False).fillna(value=0.0)\n",
        "    complainVec = combinedDf.iloc[0].values\n",
        "    contractVec = combinedDf.iloc[1].values\n",
        "\n",
        "    simRes = calcCosSim(complainVec,contractVec)\n",
        "    #print(simRes)\n",
        "    #print('---------------------')\n",
        "    resPara.append(paragraph)\n",
        "    resScore.append(simRes)\n",
        "\n",
        "\n",
        "\n",
        "#print(resPara[np.argmax(resScore)])\n",
        "#print('')\n",
        "#print(np.max(resScore))\n",
        "\n",
        "\n",
        "\n",
        "rankAr = np.asarray(resPara).argsort()[::-1][:5]\n",
        "\n",
        "heapLi = []\n",
        "\n",
        "\n",
        "print('Total number of parts in contract: ', len(contractTxt.split('\\n')))\n",
        "      \n",
        "print('\\n\\n')\n",
        "for ind in rankAr:    \n",
        "    heapq.heappush(heapLi,[-resScore[ind],ind])\n",
        "    \n",
        "while len(heapLi) > 0:\n",
        "    score,ind = heapq.heappop(heapLi)\n",
        "    score = score*-1\n",
        "    \n",
        "    print(resPara[ind])\n",
        "    print('')\n",
        "    print(score)\n",
        "    print('--------------------------\\n')"
      ],
      "execution_count": 3,
      "outputs": [
        {
          "output_type": "error",
          "ename": "NameError",
          "evalue": "ignored",
          "traceback": [
            "\u001b[0;31m---------------------------------------------------------------------------\u001b[0m",
            "\u001b[0;31mNameError\u001b[0m                                 Traceback (most recent call last)",
            "\u001b[0;32m<ipython-input-3-54d273dda81a>\u001b[0m in \u001b[0;36m<module>\u001b[0;34m()\u001b[0m\n\u001b[1;32m      4\u001b[0m \u001b[0msplitNum\u001b[0m \u001b[0;34m=\u001b[0m \u001b[0;36m300\u001b[0m\u001b[0;34m\u001b[0m\u001b[0;34m\u001b[0m\u001b[0m\n\u001b[1;32m      5\u001b[0m \u001b[0;31m#for paragraph in contractTxt.split('\\n'):\u001b[0m\u001b[0;34m\u001b[0m\u001b[0;34m\u001b[0m\u001b[0;34m\u001b[0m\u001b[0m\n\u001b[0;32m----> 6\u001b[0;31m \u001b[0;32mfor\u001b[0m \u001b[0mparagraph\u001b[0m \u001b[0;32min\u001b[0m \u001b[0;34m[\u001b[0m\u001b[0mcontractTxt\u001b[0m\u001b[0;34m[\u001b[0m\u001b[0mi\u001b[0m\u001b[0;34m:\u001b[0m\u001b[0mi\u001b[0m\u001b[0;34m+\u001b[0m\u001b[0msplitNum\u001b[0m\u001b[0;34m]\u001b[0m \u001b[0;32mfor\u001b[0m \u001b[0mi\u001b[0m \u001b[0;32min\u001b[0m \u001b[0mrange\u001b[0m\u001b[0;34m(\u001b[0m\u001b[0;36m0\u001b[0m\u001b[0;34m,\u001b[0m \u001b[0mlen\u001b[0m\u001b[0;34m(\u001b[0m\u001b[0mcontractTxt\u001b[0m\u001b[0;34m)\u001b[0m\u001b[0;34m,\u001b[0m \u001b[0msplitNum\u001b[0m\u001b[0;34m)\u001b[0m\u001b[0;34m]\u001b[0m\u001b[0;34m:\u001b[0m\u001b[0;34m\u001b[0m\u001b[0;34m\u001b[0m\u001b[0m\n\u001b[0m\u001b[1;32m      7\u001b[0m     \u001b[0mparagraph\u001b[0m \u001b[0;34m=\u001b[0m \u001b[0mparagraph\u001b[0m\u001b[0;34m.\u001b[0m\u001b[0mtranslate\u001b[0m\u001b[0;34m(\u001b[0m\u001b[0mstring\u001b[0m\u001b[0;34m.\u001b[0m\u001b[0mpunctuation\u001b[0m\u001b[0;34m)\u001b[0m\u001b[0;34m\u001b[0m\u001b[0;34m\u001b[0m\u001b[0m\n\u001b[1;32m      8\u001b[0m \u001b[0;34m\u001b[0m\u001b[0m\n",
            "\u001b[0;31mNameError\u001b[0m: name 'contractTxt' is not defined"
          ]
        }
      ]
    },
    {
      "cell_type": "code",
      "metadata": {
        "id": "EkD2zzlZS4J_",
        "colab_type": "code",
        "colab": {}
      },
      "source": [
        ""
      ],
      "execution_count": 0,
      "outputs": []
    }
  ]
}